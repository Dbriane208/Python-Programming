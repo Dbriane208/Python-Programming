{
 "cells": [
  {
   "cell_type": "markdown",
   "id": "3d8b70a9",
   "metadata": {},
   "source": [
    "# Creating Variables in python\n",
    "A variable is a name which is used to assign a value and store the value."
   ]
  },
  {
   "cell_type": "code",
   "execution_count": 2,
   "id": "88766918",
   "metadata": {},
   "outputs": [
    {
     "name": "stdout",
     "output_type": "stream",
     "text": [
      "Daniel Brian Gatuhu\n"
     ]
    }
   ],
   "source": [
    "#Name is our variable here which is used to store my name which is Daniel Brian.\n",
    "#When i print name it will output Daniel brian Gatuhu as that is what it was storing.\n",
    "\n",
    "name = \"Daniel Brian Gatuhu\"\n",
    "print(name)"
   ]
  },
  {
   "cell_type": "markdown",
   "id": "243f51d7",
   "metadata": {},
   "source": [
    "Rules for Python variables:\n",
    "\n",
    "1.A variable name must start with a letter or the underscore character. eg my_name or honey = sweet\n",
    "\n",
    "2.A variable name cannot start with a number. eg 6nine this is incorrect.\n",
    "\n",
    "3.A variable name can only contain alpha-numeric characters and underscores (A-z, 0-9, and _ )eg name*= Ann this is incorrect because an aesteric cannot be used. \n",
    "\n",
    "4.Variable names are case-sensitive (age, Age and AGE are three different variables) eg age = 12, Age = 13, AGE= 14, all this are storing different values despite them being the same name."
   ]
  },
  {
   "cell_type": "markdown",
   "id": "107ea35b",
   "metadata": {},
   "source": [
    "# The Assignment operator\n",
    "An operator is a symbo which performs an operation on one or more values. Values are assigned to variable names using a special symbol called\n",
    "the assignment operator (=). The = operator takes the value to the\n",
    "right of the operator and assigns it to the name on the left.\n"
   ]
  },
  {
   "cell_type": "code",
   "execution_count": 4,
   "id": "9162ac41",
   "metadata": {},
   "outputs": [
    {
     "name": "stdout",
     "output_type": "stream",
     "text": [
      "Hello world\n"
     ]
    }
   ],
   "source": [
    "#Example\n",
    "greetings = \"Hello world\"\n",
    "print(greetings)"
   ]
  },
  {
   "cell_type": "markdown",
   "id": "41d27104",
   "metadata": {},
   "source": [
    "# String and String Methods\n",
    "Collections of text in Python are called strings.Special functions\n",
    "called string methods are used to manipulate strings."
   ]
  },
  {
   "cell_type": "code",
   "execution_count": 5,
   "id": "1c92eedf",
   "metadata": {},
   "outputs": [
    {
     "data": {
      "text/plain": [
       "str"
      ]
     },
     "execution_count": 5,
     "metadata": {},
     "output_type": "execute_result"
    }
   ],
   "source": [
    "#Strings cannot be broken into smaller values of a different type\n",
    "#Srings are abbreviated str\n",
    "\n",
    "Elon = \"Founder and C.E.O of Spacex\"\n",
    "type(Elon)\n",
    "#the output str indicates that \"Founder and C.E.O of Spacex\" is an instance of the str data type"
   ]
  },
  {
   "cell_type": "markdown",
   "id": "b7587bcc",
   "metadata": {},
   "source": [
    "Strings have three important properties:\n",
    "1. Strings contain individual letters or symbols called characters.\n",
    "2. Strings have a length, defined as the number of characters the\n",
    "string contains.\n",
    "3. Characters in a string appear in a sequence, which means that\n",
    "each character has a numbered position in the string.\n",
    "Let’s take a closer look at how strings are created."
   ]
  },
  {
   "cell_type": "code",
   "execution_count": 6,
   "id": "4dc205c2",
   "metadata": {},
   "outputs": [
    {
     "name": "stdout",
     "output_type": "stream",
     "text": [
      "Hello world\n",
      "1234\n"
     ]
    }
   ],
   "source": [
    "#Strings can be single quotes or double quotes\n",
    "#The quotes surrounding a string are called delimiters\n",
    "\n",
    "string3 = \"Hello world\"\n",
    "string4 = \"1234\"\n",
    "\n",
    "print(string3)\n",
    "print(string4)"
   ]
  },
  {
   "cell_type": "markdown",
   "id": "5f2b5d42",
   "metadata": {},
   "source": [
    "If you try to use double quotes inside a string delimited by double\n",
    "quotes, you’ll get an error:"
   ]
  },
  {
   "cell_type": "code",
   "execution_count": 2,
   "id": "2191018f",
   "metadata": {},
   "outputs": [
    {
     "ename": "SyntaxError",
     "evalue": "invalid syntax (<ipython-input-2-db8036392542>, line 1)",
     "output_type": "error",
     "traceback": [
      "\u001b[1;36m  File \u001b[1;32m\"<ipython-input-2-db8036392542>\"\u001b[1;36m, line \u001b[1;32m1\u001b[0m\n\u001b[1;33m    text = \"She said,\"What time is it?\"\"\u001b[0m\n\u001b[1;37m                      ^\u001b[0m\n\u001b[1;31mSyntaxError\u001b[0m\u001b[1;31m:\u001b[0m invalid syntax\n"
     ]
    }
   ],
   "source": [
    "text = \"She said,\"What time is it?\"\"\n",
    "print(text)"
   ]
  },
  {
   "cell_type": "markdown",
   "id": "5faebffa",
   "metadata": {},
   "source": [
    "Python throws a SyntaxError because it thinks the string ends after the\n",
    "second \", and it doesn’t know how to interpret the rest of the line. If\n",
    "you need to include a quotation mark that matches the delimiter inside a string, then you can escape the character using a backslash:"
   ]
  },
  {
   "cell_type": "code",
   "execution_count": 3,
   "id": "e44ddfdf",
   "metadata": {},
   "outputs": [
    {
     "name": "stdout",
     "output_type": "stream",
     "text": [
      "She said, \"What time is it?\" \n"
     ]
    }
   ],
   "source": [
    "text = \"She said, \\\"What time is it?\\\" \"\n",
    "print(text)"
   ]
  },
  {
   "cell_type": "markdown",
   "id": "6548c7b6",
   "metadata": {},
   "source": [
    "# Determine the Length of a String\n"
   ]
  },
  {
   "cell_type": "code",
   "execution_count": 4,
   "id": "4eeebcbd",
   "metadata": {},
   "outputs": [
    {
     "data": {
      "text/plain": [
       "16"
      ]
     },
     "execution_count": 4,
     "metadata": {},
     "output_type": "execute_result"
    }
   ],
   "source": [
    "#Number of characters contained in a string are called the length of a string\n",
    "#Python has a built-in len() function that you can use to determinr the length of the string\n",
    "\n",
    "text = \"Daniel is great.\"\n",
    "len(text)\n",
    "\n",
    "#We can see that text variable has 16 characters."
   ]
  },
  {
   "cell_type": "markdown",
   "id": "137af114",
   "metadata": {},
   "source": [
    " Multiline Strings.\n",
    " \n",
    " To deal with long strings, you can break them up across multiple lines\n",
    "into multiline strings."
   ]
  },
  {
   "cell_type": "code",
   "execution_count": 5,
   "id": "b09bbf15",
   "metadata": {},
   "outputs": [
    {
     "name": "stdout",
     "output_type": "stream",
     "text": [
      "This multiline string is displayed on one line\n"
     ]
    }
   ],
   "source": [
    "#When you print() a multiline string that’s broken up by backslashes,\n",
    "#the output is displayed on a single line:\n",
    "long_string = \"This multiline string is \\\n",
    "displayed on one line\"\n",
    "print(long_string)"
   ]
  },
  {
   "cell_type": "markdown",
   "id": "4dabf611",
   "metadata": {},
   "source": [
    "You can also create multiline strings using triple quotes (\"\"\" or ''') as\n",
    "delimiters. Here’s how to write a long paragraph using this approach:"
   ]
  },
  {
   "cell_type": "code",
   "execution_count": 6,
   "id": "97d37777",
   "metadata": {},
   "outputs": [
    {
     "name": "stdout",
     "output_type": "stream",
     "text": [
      "This planet has—or rather had—a problem, which was\n",
      "this: most of the people living on it were unhappy for pretty much\n",
      "of the time. Many solutions were suggested for this problem, but\n",
      "most of these were largely concerned with the movements of small\n",
      "green pieces of paper, which is odd because on the whole it wasn't\n",
      "the small green pieces of paper that were unhappy.\n"
     ]
    }
   ],
   "source": [
    "#You can use triple-double quotes or triple -single quotes\n",
    "paragraph = \"\"\"This planet has—or rather had—a problem, which was\n",
    "this: most of the people living on it were unhappy for pretty much\n",
    "of the time. Many solutions were suggested for this problem, but\n",
    "most of these were largely concerned with the movements of small\n",
    "green pieces of paper, which is odd because on the whole it wasn't\n",
    "the small green pieces of paper that were unhappy.\"\"\"\n",
    "print(paragraph)"
   ]
  },
  {
   "cell_type": "markdown",
   "id": "d256df2d",
   "metadata": {},
   "source": [
    "Review Exercises\n",
    "\n",
    "You can пnd the solutions to these exercises and many other bonus\n",
    "resources online at realpython.com/python-basics/resources\n",
    "1. Print a string that uses double quotation marks inside the string.\n",
    "2. Print a string that uses an apostrophe inside the string.\n",
    "3. Print a string that spans multiple lines with whitespace preserved.\n",
    "4. Print a string that is coded on multiple lines but gets printed on a\n",
    "single line"
   ]
  },
  {
   "cell_type": "code",
   "execution_count": 9,
   "id": "3d1788c1",
   "metadata": {},
   "outputs": [
    {
     "name": "stdout",
     "output_type": "stream",
     "text": [
      "He said,\"Nigerian women are beautiful\".\n"
     ]
    }
   ],
   "source": [
    "#Print a string that uses double quotation marks inside the string.\n",
    "Daniel = \"He said,\\\"Nigerian women are beautiful\\\".\"\n",
    "print(Daniel)"
   ]
  },
  {
   "cell_type": "code",
   "execution_count": 10,
   "id": "3a97723e",
   "metadata": {},
   "outputs": [
    {
     "name": "stdout",
     "output_type": "stream",
     "text": [
      "He said,\"Nigeria's women are beautiful\".\n"
     ]
    }
   ],
   "source": [
    "#Print a string that uses an apostrophe inside the string.\n",
    "Daniel = \"He said,\\\"Nigeria's women are beautiful\\\".\"\n",
    "print(Daniel)"
   ]
  },
  {
   "cell_type": "code",
   "execution_count": 12,
   "id": "1ee45eaa",
   "metadata": {},
   "outputs": [
    {
     "name": "stdout",
     "output_type": "stream",
     "text": [
      "In every setback, failure, and defeat there are valuable lessons\n",
      "to be learned and even blessings to be unlocked.\n"
     ]
    }
   ],
   "source": [
    "# Print a string that spans multiple lines with whitespace preserved.\n",
    "Nick_vujicic_said = \"\"\"In every setback, failure, and defeat there are valuable lessons\n",
    "to be learned and even blessings to be unlocked.\"\"\"\n",
    "print(Nick_vujicic_said)"
   ]
  },
  {
   "cell_type": "code",
   "execution_count": 22,
   "id": "23fb0b11",
   "metadata": {},
   "outputs": [
    {
     "name": "stdout",
     "output_type": "stream",
     "text": [
      "The secret of visibility is staying with Jesus Christ in prayers and in meditation.\n"
     ]
    }
   ],
   "source": [
    "# Print a string that is coded on multiple lines but gets printed on a\n",
    "#single line\n",
    "Apostle_Joshua_selman_said = \"The secret of visibility \\\n",
    "is staying with Jesus \\\n",
    "Christ in prayers and in meditation.\"\n",
    "print(Apostle_Joshua_selman_said)"
   ]
  },
  {
   "cell_type": "markdown",
   "id": "1486ecfb",
   "metadata": {},
   "source": [
    "## Concatenation, Indexing, and Slicing\n",
    "\n",
    "\n"
   ]
  },
  {
   "cell_type": "markdown",
   "id": "efa53b07",
   "metadata": {},
   "source": [
    "In this section, you’ll learn about three basic string operations:\n",
    "1. Concatenation, which joins two strings together\n",
    "2. Indexing, which gets a single character from a string\n",
    "3. Slicing, which gets several characters from a string at once"
   ]
  },
  {
   "cell_type": "code",
   "execution_count": 25,
   "id": "e7fc64ea",
   "metadata": {},
   "outputs": [
    {
     "name": "stdout",
     "output_type": "stream",
     "text": [
      "DanielBrian\n"
     ]
    }
   ],
   "source": [
    "#You can combine, or concatenate, two strings using the + operator:\n",
    "# Notice that the two strings are joined without any whitespace between them.\n",
    "\n",
    "string1 = \"Daniel\"\n",
    "string2 = \"Brian\"\n",
    "my_name = string1 + string2\n",
    "print(my_name)"
   ]
  },
  {
   "cell_type": "code",
   "execution_count": 26,
   "id": "8975a7e2",
   "metadata": {},
   "outputs": [
    {
     "name": "stdout",
     "output_type": "stream",
     "text": [
      "Ann  Wanjiku\n"
     ]
    }
   ],
   "source": [
    "#You can use string concatenation to join two related strings\n",
    "\n",
    "first_name = \"Ann\"\n",
    "last_name = \" Wanjiku\"\n",
    "full_name = first_name + \" \" + last_name\n",
    "print(full_name)"
   ]
  },
  {
   "cell_type": "markdown",
   "id": "21540571",
   "metadata": {},
   "source": [
    "String Indexing"
   ]
  },
  {
   "cell_type": "code",
   "execution_count": 28,
   "id": "a4b3aca5",
   "metadata": {},
   "outputs": [
    {
     "name": "stdout",
     "output_type": "stream",
     "text": [
      "i\n",
      "f\n"
     ]
    }
   ],
   "source": [
    "#Each character in a string has a numbered position called an index.\n",
    "#You can access the character at the nth position by putting the number n between two square brackets ([]) immediately after the string:\n",
    "\n",
    "flavor = \"fig pie\"\n",
    "print(flavor[1])\n",
    "\n",
    "#flavor[1] returns the character at position 1 in \"fig pie\", which is i.\n",
    "#This is because most programming language always start counting at zero.\n",
    "\n",
    "print(flavor[0])"
   ]
  },
  {
   "cell_type": "markdown",
   "id": "2b5f647a",
   "metadata": {},
   "source": [
    "If you try to access an index beyond the end of a string, then Python\n",
    "raises an IndexError:\n"
   ]
  },
  {
   "cell_type": "code",
   "execution_count": 29,
   "id": "5ad038e5",
   "metadata": {},
   "outputs": [
    {
     "ename": "IndexError",
     "evalue": "string index out of range",
     "output_type": "error",
     "traceback": [
      "\u001b[1;31m---------------------------------------------------------------------------\u001b[0m",
      "\u001b[1;31mIndexError\u001b[0m                                Traceback (most recent call last)",
      "\u001b[1;32m<ipython-input-29-a000d5ee462a>\u001b[0m in \u001b[0;36m<module>\u001b[1;34m\u001b[0m\n\u001b[0;32m      1\u001b[0m \u001b[0mflavor\u001b[0m \u001b[1;33m=\u001b[0m \u001b[1;34m\"fig pie\"\u001b[0m\u001b[1;33m\u001b[0m\u001b[1;33m\u001b[0m\u001b[0m\n\u001b[1;32m----> 2\u001b[1;33m \u001b[0mprint\u001b[0m\u001b[1;33m(\u001b[0m\u001b[0mflavor\u001b[0m\u001b[1;33m[\u001b[0m\u001b[1;36m9\u001b[0m\u001b[1;33m]\u001b[0m\u001b[1;33m)\u001b[0m\u001b[1;33m\u001b[0m\u001b[1;33m\u001b[0m\u001b[0m\n\u001b[0m",
      "\u001b[1;31mIndexError\u001b[0m: string index out of range"
     ]
    }
   ],
   "source": [
    "flavor = \"fig pie\"\n",
    "print(flavor[9])"
   ]
  },
  {
   "cell_type": "markdown",
   "id": "a139c05c",
   "metadata": {},
   "source": [
    "The largest index in a string is always one less than the string’s length.\n",
    "Since \"fig pie\" has a length of seven, the largest index allowed is 6"
   ]
  },
  {
   "cell_type": "code",
   "execution_count": 30,
   "id": "0185465b",
   "metadata": {},
   "outputs": [
    {
     "name": "stdout",
     "output_type": "stream",
     "text": [
      "e\n"
     ]
    }
   ],
   "source": [
    "#string also supports negative indexes\n",
    "print(flavor[-1])\n",
    "\n",
    "#The last character in a string has index -1, which for \"fig pie\" is the letter e. The second to last character i has index -2, and so on"
   ]
  },
  {
   "cell_type": "code",
   "execution_count": 9,
   "id": "e83dbaa9",
   "metadata": {},
   "outputs": [
    {
     "data": {
      "text/plain": [
       "'s'"
      ]
     },
     "execution_count": 9,
     "metadata": {},
     "output_type": "execute_result"
    }
   ],
   "source": [
    "#One way to get the last character of a string is to calculate the final index using len ():\n",
    "user_input = \"Daniel has five cousins\"\n",
    "#using len() function and -1 you can easily get the number of characters in the variable.\n",
    "final_index = len(user_input) -1\n",
    "#user_input[final_index] helps us get the last character of our variable.\n",
    "last_character = user_input[final_index]\n",
    "#other ways to get the final character with ease is by:\n",
    "last_character = user_input[-1]\n",
    "last_character"
   ]
  },
  {
   "cell_type": "markdown",
   "id": "70dc726a",
   "metadata": {},
   "source": [
    "String Slicing"
   ]
  },
  {
   "cell_type": "markdown",
   "id": "ce1906e8",
   "metadata": {},
   "source": [
    "Suppose you need a string containing just the first three letters of the\n",
    "string \"fig pie\". You could access each character by index and concatenate them like this:"
   ]
  },
  {
   "cell_type": "code",
   "execution_count": 10,
   "id": "2210f3f1",
   "metadata": {},
   "outputs": [
    {
     "data": {
      "text/plain": [
       "'fig'"
      ]
     },
     "execution_count": 10,
     "metadata": {},
     "output_type": "execute_result"
    }
   ],
   "source": [
    "#Example\n",
    "flavor = \"fig pie\"\n",
    "first_three_letters = flavor[0] + flavor[1] + flavor[2]\n",
    "first_three_letters"
   ]
  },
  {
   "cell_type": "markdown",
   "id": "b9d68600",
   "metadata": {},
   "source": [
    "Concatenating a string individually can be clumsy, python provides substring by inserting a colon between two index numbers set inside square brackets."
   ]
  },
  {
   "cell_type": "code",
   "execution_count": 11,
   "id": "da6a1942",
   "metadata": {},
   "outputs": [
    {
     "data": {
      "text/plain": [
       "'fig'"
      ]
     },
     "execution_count": 11,
     "metadata": {},
     "output_type": "execute_result"
    }
   ],
   "source": [
    "flavor = \"fig pie\"\n",
    "flavor[0:3]"
   ]
  },
  {
   "cell_type": "markdown",
   "id": "67b92ef1",
   "metadata": {},
   "source": [
    "flavor[0:3] returns the first three characters of the string assigned to\n",
    "flavor, starting with the character at index 0 and going up to but not including the character at index 3. The [0:3] part of flavor[0:3] is called\n",
    "a slice. In this case, it returns a slice of \"fig pie\"."
   ]
  },
  {
   "cell_type": "code",
   "execution_count": 12,
   "id": "65774fc1",
   "metadata": {},
   "outputs": [
    {
     "data": {
      "text/plain": [
       "'fig'"
      ]
     },
     "execution_count": 12,
     "metadata": {},
     "output_type": "execute_result"
    }
   ],
   "source": [
    "#If you omit the first index in a slice, then Python assumes you want to start at index 0:\n",
    "flavor[:3]\n",
    "#This means that [0:3] is equivalent [:3] since they are return the first three characters in the string."
   ]
  },
  {
   "cell_type": "code",
   "execution_count": 13,
   "id": "a838a690",
   "metadata": {},
   "outputs": [
    {
     "data": {
      "text/plain": [
       "' pie'"
      ]
     },
     "execution_count": 13,
     "metadata": {},
     "output_type": "execute_result"
    }
   ],
   "source": [
    "#if you omit the second index in the slice,python assumes you want to return the substring whose index is the first number.\n",
    "flavor[3:]"
   ]
  },
  {
   "cell_type": "markdown",
   "id": "04e1d329",
   "metadata": {},
   "source": [
    "If you omit both the first and second numbers in a slice, you get a\n",
    "string that starts with the character at index 0 and ends with the last\n",
    "character"
   ]
  },
  {
   "cell_type": "code",
   "execution_count": 14,
   "id": "30a66d57",
   "metadata": {},
   "outputs": [
    {
     "data": {
      "text/plain": [
       "'fig pie'"
      ]
     },
     "execution_count": 14,
     "metadata": {},
     "output_type": "execute_result"
    }
   ],
   "source": [
    "flavor[:]"
   ]
  },
  {
   "cell_type": "code",
   "execution_count": 21,
   "id": "9387f69a",
   "metadata": {},
   "outputs": [
    {
     "data": {
      "text/plain": [
       "''"
      ]
     },
     "execution_count": 21,
     "metadata": {},
     "output_type": "execute_result"
    }
   ],
   "source": [
    "#Python won't raise an index error when you try to slice between boundaries that fall outside\n",
    "flavor[:9]\n",
    "#python returns an empty string('') when you attempt to get the 13th and 14th character.\n",
    "flavor[13:15]"
   ]
  },
  {
   "cell_type": "code",
   "execution_count": 22,
   "id": "815e384b",
   "metadata": {},
   "outputs": [
    {
     "data": {
      "text/plain": [
       "''"
      ]
     },
     "execution_count": 22,
     "metadata": {},
     "output_type": "execute_result"
    }
   ],
   "source": [
    "#Instead of returning the ebtire string [-7:0] returns the empty string\n",
    "flavor[-7:0]"
   ]
  },
  {
   "cell_type": "markdown",
   "id": "b5730674",
   "metadata": {},
   "source": [
    "This happens because the second number in a slice must correspond\n",
    "to a boundary that is to the right of the boundary corresponding to the\n",
    "first number, but both -7 and 0 correspond to the leftmost boundary\n",
    "in the figure"
   ]
  },
  {
   "cell_type": "code",
   "execution_count": 24,
   "id": "d0e123ed",
   "metadata": {},
   "outputs": [
    {
     "data": {
      "text/plain": [
       "'fig pie'"
      ]
     },
     "execution_count": 24,
     "metadata": {},
     "output_type": "execute_result"
    }
   ],
   "source": [
    "#Of course, using flavor[-7:] to get the entire string is a bit odd considering that you can use the variable flavor without the slice to get the same result!\n",
    "flavor[-7:]"
   ]
  },
  {
   "cell_type": "markdown",
   "id": "09445b38",
   "metadata": {},
   "source": [
    "Strings are immutable.\n",
    "\n",
    "- Strings are immutable, which means that you can’t change them once you’ve created them.\n",
    "-If you want to alter a string, then you must create an entirely new string."
   ]
  },
  {
   "cell_type": "code",
   "execution_count": 25,
   "id": "6e3509cc",
   "metadata": {},
   "outputs": [
    {
     "data": {
      "text/plain": [
       "'foal'"
      ]
     },
     "execution_count": 25,
     "metadata": {},
     "output_type": "execute_result"
    }
   ],
   "source": [
    "#We create a variable word\n",
    "word = \"goal\"\n",
    "#We want to join string f with our entire variable through a substrian from index character 1\n",
    "word = \"f\" + word[1:]\n",
    "#We cal our variable\n",
    "word"
   ]
  },
  {
   "cell_type": "markdown",
   "id": "e34537b8",
   "metadata": {},
   "source": [
    "Review Exercises.\n",
    "\n",
    "You can пnd the solutions to these exercises and many other bonus\n",
    "resources online at realpython.com/python-basics/resources\n",
    "\n",
    "1. Create a string and print its length using len().\n",
    "2. Create two strings, concatenate them, and print the resulting\n",
    "string.\n",
    "3. Create two strings, use concatenation to add a space between them,\n",
    "and print the result.\n",
    "4. Print the string \"zing\" by using slice notation to specify the correct\n",
    "range of characters in the string \"bazinga\"."
   ]
  },
  {
   "cell_type": "code",
   "execution_count": 29,
   "id": "d57cacad",
   "metadata": {},
   "outputs": [
    {
     "data": {
      "text/plain": [
       "20"
      ]
     },
     "execution_count": 29,
     "metadata": {},
     "output_type": "execute_result"
    }
   ],
   "source": [
    "#Create a string and print its length using len().\n",
    "wife = \"Chan is Mark's wife \"\n",
    "len(wife)"
   ]
  },
  {
   "cell_type": "code",
   "execution_count": 30,
   "id": "fbc4a916",
   "metadata": {},
   "outputs": [
    {
     "data": {
      "text/plain": [
       "'DanielBrianGatuhu'"
      ]
     },
     "execution_count": 30,
     "metadata": {},
     "output_type": "execute_result"
    }
   ],
   "source": [
    "#Create two strings, concatenate them, and print the resulting string.\n",
    "first_name = \"Daniel\"\n",
    "second_name = \"Brian\"\n",
    "third_name = \"Gatuhu\"\n",
    "\n",
    "full_name = first_name + second_name + third_name\n",
    "full_name"
   ]
  },
  {
   "cell_type": "code",
   "execution_count": 33,
   "id": "3dc02c90",
   "metadata": {},
   "outputs": [
    {
     "data": {
      "text/plain": [
       "'Daniel Brian Gatuhu'"
      ]
     },
     "execution_count": 33,
     "metadata": {},
     "output_type": "execute_result"
    }
   ],
   "source": [
    "# Create two strings, use concatenation to add a space between them,and print the result.\n",
    "first_name = \"Daniel\"\n",
    "second_name = \"Brian\"\n",
    "third_name = \"Gatuhu\"\n",
    "\n",
    "full_name = first_name +\" \"+ second_name +\" \"+ third_name\n",
    "full_name"
   ]
  },
  {
   "cell_type": "code",
   "execution_count": 34,
   "id": "dd3c5bb3",
   "metadata": {},
   "outputs": [
    {
     "data": {
      "text/plain": [
       "'zing'"
      ]
     },
     "execution_count": 34,
     "metadata": {},
     "output_type": "execute_result"
    }
   ],
   "source": [
    "# Print the string \"zing\" by using slice notation to specify the correct range of characters in the string \"bazinga\".\n",
    "string1 = \"bazinga\"\n",
    "string1[2:6]\n"
   ]
  },
  {
   "cell_type": "markdown",
   "id": "26992daf",
   "metadata": {},
   "source": [
    "# Manipulate Strings With Methods\n",
    "\n",
    "In this section, you’ll learn how to:\n",
    "\n",
    "• Convert a string to uppercase or lowercase\n",
    "\n",
    "• Remove whitespace from a string\n",
    "\n",
    "• Determine if a string begins or ends with certain characters\n",
    "\n",
    "Let’s go!"
   ]
  },
  {
   "cell_type": "markdown",
   "id": "dee91570",
   "metadata": {},
   "source": [
    "Converting String Case"
   ]
  },
  {
   "cell_type": "code",
   "execution_count": 35,
   "id": "6eadc780",
   "metadata": {},
   "outputs": [
    {
     "data": {
      "text/plain": [
       "'fig pie'"
      ]
     },
     "execution_count": 35,
     "metadata": {},
     "output_type": "execute_result"
    }
   ],
   "source": [
    "#To convert a string to all lowercase letters, you use the string's .lower()\n",
    "flavor = \"Fig Pie\"\n",
    "flavor.lower()\n",
    "#You will notice that capital letter F an P are changed to small letters."
   ]
  },
  {
   "cell_type": "code",
   "execution_count": 36,
   "id": "4edbbe4e",
   "metadata": {},
   "outputs": [
    {
     "data": {
      "text/plain": [
       "'FIG PIE'"
      ]
     },
     "execution_count": 36,
     "metadata": {},
     "output_type": "execute_result"
    }
   ],
   "source": [
    "#The opposite of .lower() is .upper(), which converts every character in a string to uppercase:\n",
    "flavor = \"fig pie\"\n",
    "flavor.upper()"
   ]
  },
  {
   "cell_type": "markdown",
   "id": "f071ac34",
   "metadata": {},
   "source": [
    "Removing Whitespace From a String"
   ]
  },
  {
   "cell_type": "markdown",
   "id": "ec300bc9",
   "metadata": {},
   "source": [
    "Whitespace is any character that is printed as blank space.\n",
    "\n",
    "There are three string methods that you can use to remove whitespace\n",
    "from a string:\n",
    "    \n",
    "1. .rstrip()\n",
    "2. .lstrip()\n",
    "3. .strip()"
   ]
  },
  {
   "cell_type": "code",
   "execution_count": 38,
   "id": "21a2fdcd",
   "metadata": {},
   "outputs": [
    {
     "data": {
      "text/plain": [
       "'Daniel Brian Gatuhu'"
      ]
     },
     "execution_count": 38,
     "metadata": {},
     "output_type": "execute_result"
    }
   ],
   "source": [
    "#.rstrip() removes whitespace from the right side of a string:\n",
    "name = \"Daniel Brian Gatuhu   \"\n",
    "name.rstrip()\n",
    "# This returns the new string \"Daniel Brian Gatuhu\", which no longer has the spaces at the end."
   ]
  },
  {
   "cell_type": "code",
   "execution_count": 39,
   "id": "9ca340d4",
   "metadata": {},
   "outputs": [
    {
     "data": {
      "text/plain": [
       "'Daniel Brian Gatuhu'"
      ]
     },
     "execution_count": 39,
     "metadata": {},
     "output_type": "execute_result"
    }
   ],
   "source": [
    "#.lstrip() works just like .rstrip(), except that it removes whitespace from the left-hand side of the string:\n",
    "name = \"   Daniel Brian Gatuhu\"\n",
    "name.lstrip()"
   ]
  },
  {
   "cell_type": "code",
   "execution_count": 42,
   "id": "255a83ec",
   "metadata": {},
   "outputs": [
    {
     "data": {
      "text/plain": [
       "'Daniel Brian Gatuhu'"
      ]
     },
     "execution_count": 42,
     "metadata": {},
     "output_type": "execute_result"
    }
   ],
   "source": [
    "#To remove whitespace from both the left and the right sides of the string at the same time, use .strip():\n",
    "name = \"   Daniel Brian Gatuhu   \"\n",
    "name.strip()"
   ]
  },
  {
   "cell_type": "markdown",
   "id": "048a1026",
   "metadata": {},
   "source": [
    "# Use IDLE to Discover Additional String Methods"
   ]
  },
  {
   "cell_type": "markdown",
   "id": "403dac1d",
   "metadata": {},
   "source": [
    "Strings have lots of methods associated with them, and the methods\n",
    "introduced in this section barely scratch the surface. IDLE can help\n",
    "you find new string methods. To see how, first assign a string literal\n",
    "to a variable in the interactive window:\n",
    "\n",
    ">>> starship = \"Enterprise\"\n",
    "\n",
    "Next, type starship followed by a period, but do not hit Enter . You\n",
    "should see the following in the interactive window:\n",
    ">>> starship.\n",
    "\n",
    "Now wait for a couple of seconds. IDLE displays a list of every string\n",
    "method, which you can scroll through using the arrow keys.\n",
    "\n",
    "A related shortcut in IDLE is the ability to use Tab to automatically\n",
    "fill in text without having to type long names. For instance, if you\n",
    "type only starship.u and hit Tab , then IDLE automatically fills in starship.upper because only one method that begins with a u belongs to\n",
    "starship.\n",
    "\n",
    "This even works with variable names. Try typing just the first few letters of starship and pressing Tab . If you haven’t defined any other\n",
    "names that share those first letters, then IDLE completes the name\n",
    "starship for you."
   ]
  },
  {
   "cell_type": "code",
   "execution_count": 1,
   "id": "084ce16c",
   "metadata": {},
   "outputs": [
    {
     "data": {
      "text/plain": [
       "'Enterprise'"
      ]
     },
     "execution_count": 1,
     "metadata": {},
     "output_type": "execute_result"
    }
   ],
   "source": [
    "#Examles\n",
    "starship = \"Enterprise\"\n",
    "starship.upper\n",
    "starship"
   ]
  },
  {
   "cell_type": "markdown",
   "id": "f349ecfe",
   "metadata": {},
   "source": [
    "Review Exercises\n",
    "\n",
    "You can пnd the solutions to these exercises and many other bonus\n",
    "resources online at realpython.com/python-basics/resources\n",
    "\n",
    "1. Write a program that converts the following strings to lowercase:\n",
    "\"Animals\", \"Badger\", \"Honey Bee\", \"Honey Badger\". Print each lowercase string on a separate line.\n",
    "\n",
    "2. Repeat exercise 1, but convert each string to uppercase instead oflowercase\n",
    "\n",
    "3. Write a program that removes whitespace from the following strings, then print out the strings with the whitespace removed:\n",
    "\n",
    "string1 = \" Filet Mignon\"\n",
    "\n",
    "string2 = \"Brisket \"\n",
    "\n",
    "string3 = \" Cheeseburger \"\n",
    "\n",
    "4. Write a program that prints out the result of .startswith(\"be\") on each of the following strings:\n",
    "string1 = \"Becomes\"\n",
    "\n",
    "string2 = \"becomes\"\n",
    "\n",
    "string3 = \"BEAR\"\n",
    "\n",
    "string4 = \" bEautiful\"\n",
    "\n",
    "5. Using the same four strings from exercise 4, write a program that uses string methods to alter each string so that.startswith(\"be\") returns True for all of them.\n"
   ]
  },
  {
   "cell_type": "code",
   "execution_count": 17,
   "id": "5c87199f",
   "metadata": {},
   "outputs": [
    {
     "name": "stdout",
     "output_type": "stream",
     "text": [
      "animals\n",
      "badger\n",
      "honey bee\n",
      "honey badger\n"
     ]
    }
   ],
   "source": [
    "#Write a program that converts the following strings to lowercase: \"Animals\", \"Badger\", \"Honey Bee\", \"Honey Badger\". Print each lowercase string on a separate line.\n",
    "lower_case =[\"Animals\", \"Badger\", \"Honey Bee\", \"Honey Badger\"]\n",
    "#First way to solve it  is to index every word in the list and tranform it.\n",
    "lower_case[0].lower()\n",
    "#Second way is to use for loop through the list \n",
    "for lower_cases in lower_case:\n",
    "    output = lower_cases.lower()\n",
    "    print(output)"
   ]
  },
  {
   "cell_type": "code",
   "execution_count": 21,
   "id": "563e2b7d",
   "metadata": {},
   "outputs": [
    {
     "name": "stdout",
     "output_type": "stream",
     "text": [
      "ANIMALS\n",
      "BADGER\n",
      "HONEY BEE\n",
      "HONEY BADGER\n"
     ]
    }
   ],
   "source": [
    "#Repeat exercise 1, but convert each string to uppercase instead of lowercase\n",
    "lower_case =[\"Animals\", \"Badger\", \"Honey Bee\", \"Honey Badger\"]\n",
    "for lower_cases in lower_case:\n",
    "    output = lower_cases.upper()\n",
    "    print(output)"
   ]
  },
  {
   "cell_type": "code",
   "execution_count": 25,
   "id": "0bea4fe8",
   "metadata": {},
   "outputs": [
    {
     "name": "stdout",
     "output_type": "stream",
     "text": [
      "Filet Mignon Brisket Cheeseburger\n"
     ]
    }
   ],
   "source": [
    "#Write a program that removes whitespace from the following strings, then print out the strings with the whitespace removed:\n",
    "#Left whitespace\n",
    "string1 = \" Filet Mignon\"\n",
    "x = string1.lstrip()\n",
    "#Right whitespace\n",
    "string2 = \"Brisket \"\n",
    "y = string2.rstrip()\n",
    "#Whitespace on both left and right\n",
    "string3 = \" Cheeseburger \"\n",
    "z = string3.strip()\n",
    "print(x,y,z)"
   ]
  },
  {
   "cell_type": "code",
   "execution_count": 26,
   "id": "9900882e",
   "metadata": {},
   "outputs": [
    {
     "name": "stdout",
     "output_type": "stream",
     "text": [
      "False\n",
      "True\n",
      "False\n",
      "False\n"
     ]
    }
   ],
   "source": [
    "#Write a program that prints out the result of .startswith(\"be\") on each of the following strings: \n",
    "#string1 = \"Becomes\"\n",
    "#string2 = \"becomes\"\n",
    "#string3 = \"BEAR\"\n",
    "#string4 = \" bEautiful\"\n",
    "\n",
    "#I want to create a list and then use a for loop\n",
    "\n",
    "string = [\"Becomes\",\"becomes\",\"BEAR\",\"bEautiful\"]\n",
    "for strings in string:\n",
    "    output = strings.startswith(\"be\")\n",
    "    print(output)"
   ]
  },
  {
   "cell_type": "code",
   "execution_count": 1,
   "id": "077949fc",
   "metadata": {},
   "outputs": [
    {
     "name": "stdout",
     "output_type": "stream",
     "text": [
      "True\n",
      "True\n",
      "True\n",
      "True\n"
     ]
    }
   ],
   "source": [
    "#Using the same four strings from exercise 4, write a program that uses string methods to alter each string so that.startswith(\"be\") returns True for all of them.\n",
    "string = [\"Becomes\",\"becomes\",\"BEAR\",\"bEautiful\"]\n",
    "for strings in string:\n",
    "    str_lower = strings.lower()\n",
    "    output = str_lower.startswith(\"be\")\n",
    "    print(output)"
   ]
  },
  {
   "cell_type": "markdown",
   "id": "1f03a270",
   "metadata": {},
   "source": [
    "# Interact With User Input"
   ]
  },
  {
   "cell_type": "markdown",
   "id": "b2406f4b",
   "metadata": {},
   "source": [
    "In this section, you’ll learn how to get some input from a user with\n",
    "input(). You’ll write a program that asks a user to input some text and\n",
    "then displays that text back to them in uppercase."
   ]
  },
  {
   "cell_type": "code",
   "execution_count": 2,
   "id": "e2a51708",
   "metadata": {},
   "outputs": [
    {
     "name": "stdout",
     "output_type": "stream",
     "text": [
      "Hello there!\n"
     ]
    },
    {
     "data": {
      "text/plain": [
       "'Hello there!'"
      ]
     },
     "execution_count": 2,
     "metadata": {},
     "output_type": "execute_result"
    }
   ],
   "source": [
    "input()"
   ]
  },
  {
   "cell_type": "markdown",
   "id": "95edcb31",
   "metadata": {},
   "source": [
    "The text you entered is repeated on a new line with single quotes.\n",
    "That’s because input() returns as a string any text entered by the user.\n",
    "\n",
    "To make input() a bit more user-friendly, you can give it a prompt to\n",
    "display to the user. The prompt is just a string that you put between\n",
    "the parentheses of input(). It can be anything you want: a word, a\n",
    "symbol, a phrase—anything that is a valid Python string.\n",
    "\n",
    "To see how input() works, type the following code into IDLE’s editor\n",
    "window:\n"
   ]
  },
  {
   "cell_type": "code",
   "execution_count": null,
   "id": "91dfa4f4",
   "metadata": {},
   "outputs": [],
   "source": [
    "prompt = \"Hey, what's up? \"\n",
    "user_input = input(prompt)\n",
    "print(\"You said said: \" +user_input)"
   ]
  },
  {
   "cell_type": "markdown",
   "id": "7401210c",
   "metadata": {},
   "source": [
    "Once you have input from a user, you can do something with it. For\n",
    "example, the following program takes user input, converts it to uppercase with .upper(), and prints the result:"
   ]
  },
  {
   "cell_type": "code",
   "execution_count": null,
   "id": "a42aafe8",
   "metadata": {},
   "outputs": [],
   "source": [
    "response = input(\"What should i shout? \")\n",
    "shouted_response = response.upper()\n",
    "print(\"Well, if you insist...\" + shouted_response)"
   ]
  },
  {
   "cell_type": "markdown",
   "id": "81c97fad",
   "metadata": {},
   "source": [
    "Review Exercises\n",
    "\n",
    "You can пnd the solutions to these exercises and many other bonus\n",
    "resources online at realpython.com/python-basics/resources\n",
    "\n",
    "1. Write a program that takes input from the user and displays that input back.\n",
    "2. Write a program that takes input from the user and displays the input in lowercase.\n",
    "3. Write a program that takes input from the user and displays the number of characters in the input."
   ]
  },
  {
   "cell_type": "markdown",
   "id": "5f8fbfc8",
   "metadata": {},
   "source": [
    "# Challenge: Pick Apart Your User’s Input"
   ]
  },
  {
   "cell_type": "markdown",
   "id": "457a8af8",
   "metadata": {},
   "source": [
    "Write a program named first_letter.py that prompts the user for input with the string \"Tell me your password:\". The program should then\n",
    "determine the first letter of the user’s input, convert that letter to uppercase, and display it back.\n",
    "For example, if the user input is \"no\", then the program should display the following output:\n",
    "    \n",
    "The first letter you entered was: N"
   ]
  },
  {
   "cell_type": "markdown",
   "id": "e8fcb85d",
   "metadata": {},
   "source": [
    "# Working With Strings and Numbers\n",
    "\n",
    "In this section, you’ll learn how to deal with strings of numbers.\n",
    "You’ll also learn how to convert between strings\n",
    "and number types."
   ]
  },
  {
   "cell_type": "markdown",
   "id": "fd31970e",
   "metadata": {},
   "source": [
    "Using Strings With Arithmetic Operators\n"
   ]
  },
  {
   "cell_type": "code",
   "execution_count": 1,
   "id": "54692417",
   "metadata": {},
   "outputs": [
    {
     "data": {
      "text/plain": [
       "'22'"
      ]
     },
     "execution_count": 1,
     "metadata": {},
     "output_type": "execute_result"
    }
   ],
   "source": [
    "#Don't confuse numerals in a string with actual numbers\n",
    "num = \"2\"\n",
    "num + num\n",
    "#The + operator concatenates two strings together, which is why the result of \"2\" + \"2\" is \"22\" and not \"4\"."
   ]
  },
  {
   "cell_type": "code",
   "execution_count": 2,
   "id": "95212db1",
   "metadata": {},
   "outputs": [
    {
     "data": {
      "text/plain": [
       "'121212'"
      ]
     },
     "execution_count": 2,
     "metadata": {},
     "output_type": "execute_result"
    }
   ],
   "source": [
    "#You can multiple strings by a number as long as that number is an integer or whole number\n",
    "num = \"12\"\n",
    "num * 3\n",
    "#num * 3 concatenates three instances of the string \"12\" and returns the string \"121212\"."
   ]
  },
  {
   "cell_type": "code",
   "execution_count": 3,
   "id": "3f4cb681",
   "metadata": {},
   "outputs": [
    {
     "ename": "TypeError",
     "evalue": "can't multiply sequence by non-int of type 'str'",
     "output_type": "error",
     "traceback": [
      "\u001b[1;31m---------------------------------------------------------------------------\u001b[0m",
      "\u001b[1;31mTypeError\u001b[0m                                 Traceback (most recent call last)",
      "\u001b[1;32m<ipython-input-3-61ca48b09088>\u001b[0m in \u001b[0;36m<module>\u001b[1;34m\u001b[0m\n\u001b[0;32m      1\u001b[0m \u001b[1;31m#Type \"12\" * \"3\" in the interactive window and press\u001b[0m\u001b[1;33m\u001b[0m\u001b[1;33m\u001b[0m\u001b[1;33m\u001b[0m\u001b[0m\n\u001b[1;32m----> 2\u001b[1;33m \u001b[1;34m\"12\"\u001b[0m \u001b[1;33m*\u001b[0m \u001b[1;34m\"3\"\u001b[0m\u001b[1;33m\u001b[0m\u001b[1;33m\u001b[0m\u001b[0m\n\u001b[0m",
      "\u001b[1;31mTypeError\u001b[0m: can't multiply sequence by non-int of type 'str'"
     ]
    }
   ],
   "source": [
    "#Type \"12\" * \"3\" in the interactive window and press\n",
    "\"12\" * \"3\""
   ]
  },
  {
   "cell_type": "markdown",
   "id": "322f9aeb",
   "metadata": {},
   "source": [
    "sequence is any Python object that supports accessing elements by index.\n",
    "Python raises a TypeError and tells you that you can’t multiply a sequence by a non-integ"
   ]
  },
  {
   "cell_type": "code",
   "execution_count": 4,
   "id": "83eb0df8",
   "metadata": {},
   "outputs": [
    {
     "ename": "TypeError",
     "evalue": "can only concatenate str (not \"int\") to str",
     "output_type": "error",
     "traceback": [
      "\u001b[1;31m---------------------------------------------------------------------------\u001b[0m",
      "\u001b[1;31mTypeError\u001b[0m                                 Traceback (most recent call last)",
      "\u001b[1;32m<ipython-input-4-a62ff2a7686c>\u001b[0m in \u001b[0;36m<module>\u001b[1;34m\u001b[0m\n\u001b[1;32m----> 1\u001b[1;33m \u001b[1;34m\"3\"\u001b[0m \u001b[1;33m+\u001b[0m \u001b[1;36m3\u001b[0m\u001b[1;33m\u001b[0m\u001b[1;33m\u001b[0m\u001b[0m\n\u001b[0m",
      "\u001b[1;31mTypeError\u001b[0m: can only concatenate str (not \"int\") to str"
     ]
    }
   ],
   "source": [
    "\"3\" + 3"
   ]
  },
  {
   "cell_type": "markdown",
   "id": "9ea563bd",
   "metadata": {},
   "source": [
    "Python throws a TypeError because it expects the objects on both sidesof the + operator to be of the same type.\n",
    "If an object on either side of + is a string, then Python tries to perform\n",
    "string concatenation. It will only perform addition if both objects are\n",
    "numbers. So, to add \"3\" + 3 and get 6, you must first convert the string\n",
    "\"3\" to a number.\n"
   ]
  },
  {
   "cell_type": "markdown",
   "id": "2c481ef1",
   "metadata": {},
   "source": [
    "# Converting Strings to Numbers\n",
    "Let’s look at an example. Save and run the following program:\n"
   ]
  },
  {
   "cell_type": "code",
   "execution_count": 8,
   "id": "00ce819e",
   "metadata": {},
   "outputs": [
    {
     "name": "stdout",
     "output_type": "stream",
     "text": [
      "Enter a number to be doubled 2\n",
      "22\n"
     ]
    }
   ],
   "source": [
    "#Remember, input() always returns a string\n",
    "num = input(\"Enter a number to be doubled \")\n",
    "doubled_num = num * 2\n",
    "print(doubled_num)"
   ]
  },
  {
   "cell_type": "markdown",
   "id": "f0afc9fe",
   "metadata": {},
   "source": [
    "If you entered the number 2 at the prompt, then you would expect the\n",
    "output to be 4. But in this case, you would get 22. Remember, input()\n",
    "always returns a string, so if you input 2, then num is assigned the string\n",
    "\"2\", not the integer 2. Therefore, the expression num * 2 returns the\n",
    "string \"2\" concatenated with itself, which is \"22\"."
   ]
  },
  {
   "cell_type": "markdown",
   "id": "490007c6",
   "metadata": {},
   "source": [
    "int() and foat() converts strings into numbers\n",
    "int()stands for integer and converts objects into whole numbers\n",
    "float() stands for floating-point numberand converts objects into decimals"
   ]
  },
  {
   "cell_type": "code",
   "execution_count": 10,
   "id": "be42333f",
   "metadata": {},
   "outputs": [
    {
     "data": {
      "text/plain": [
       "12.0"
      ]
     },
     "execution_count": 10,
     "metadata": {},
     "output_type": "execute_result"
    }
   ],
   "source": [
    "#integer\n",
    "int(\"12\")\n",
    "#float\n",
    "float(\"12\")\n",
    "#you will nite that float will add a decimal point when you run the output"
   ]
  },
  {
   "cell_type": "markdown",
   "id": "42dd466c",
   "metadata": {},
   "source": [
    "#Now lets revisit our first program\n",
    "#The problem is with the second line where num is a string and 2 is an integer\n",
    "#How we should tackle this is by changing the string into a number either integer or float\n",
    "num = input(\"Enter a number to be doubled: \")\n",
    "doubled_num = int(num) * 2\n",
    "print(doubled_num)\n"
   ]
  },
  {
   "cell_type": "markdown",
   "id": "eb7a72a6",
   "metadata": {},
   "source": [
    "# Converting Numbers to Strings"
   ]
  },
  {
   "cell_type": "markdown",
   "id": "4db2f459",
   "metadata": {},
   "source": [
    "As you’ve already seen, concatenating a number with a string produces a TypeError:\n"
   ]
  },
  {
   "cell_type": "code",
   "execution_count": 13,
   "id": "2978adb7",
   "metadata": {},
   "outputs": [
    {
     "ename": "TypeError",
     "evalue": "can only concatenate str (not \"int\") to str",
     "output_type": "error",
     "traceback": [
      "\u001b[1;31m---------------------------------------------------------------------------\u001b[0m",
      "\u001b[1;31mTypeError\u001b[0m                                 Traceback (most recent call last)",
      "\u001b[1;32m<ipython-input-13-ee55a745a399>\u001b[0m in \u001b[0;36m<module>\u001b[1;34m\u001b[0m\n\u001b[0;32m      1\u001b[0m \u001b[0mnum_pancakes\u001b[0m \u001b[1;33m=\u001b[0m \u001b[1;36m10\u001b[0m\u001b[1;33m\u001b[0m\u001b[1;33m\u001b[0m\u001b[0m\n\u001b[1;32m----> 2\u001b[1;33m \u001b[1;34m\"I am going to eat \"\u001b[0m \u001b[1;33m+\u001b[0m \u001b[0mnum_pancakes\u001b[0m \u001b[1;33m+\u001b[0m \u001b[1;34m\"pancakes. \"\u001b[0m\u001b[1;33m\u001b[0m\u001b[1;33m\u001b[0m\u001b[0m\n\u001b[0m",
      "\u001b[1;31mTypeError\u001b[0m: can only concatenate str (not \"int\") to str"
     ]
    }
   ],
   "source": [
    "num_pancakes = 10\n",
    "\"I am going to eat \" + num_pancakes + \"pancakes. \"\n"
   ]
  },
  {
   "cell_type": "markdown",
   "id": "94a98fc4",
   "metadata": {},
   "source": [
    "Since num_pancakes is a number, Python can’t concatenate it with the\n",
    "string \"I'm going to eat\". To build the string, you need to convert\n",
    "num_pancakes to a string using str():\n"
   ]
  },
  {
   "cell_type": "code",
   "execution_count": 15,
   "id": "9cc4debb",
   "metadata": {},
   "outputs": [
    {
     "data": {
      "text/plain": [
       "'I am going to eat 10 pancakes. '"
      ]
     },
     "execution_count": 15,
     "metadata": {},
     "output_type": "execute_result"
    }
   ],
   "source": [
    "num_pancakes = 10\n",
    "\"I am going to eat \" + str(num_pancakes) + \" pancakes. \""
   ]
  },
  {
   "cell_type": "code",
   "execution_count": 16,
   "id": "f346316e",
   "metadata": {},
   "outputs": [
    {
     "data": {
      "text/plain": [
       "'I am going to eat 10 pancakes. '"
      ]
     },
     "execution_count": 16,
     "metadata": {},
     "output_type": "execute_result"
    }
   ],
   "source": [
    "#you can also call str() on a number literal\n",
    "\"I am going to eat \" + str(10) + \" pancakes. \""
   ]
  },
  {
   "cell_type": "code",
   "execution_count": 17,
   "id": "2ecd0f6a",
   "metadata": {},
   "outputs": [
    {
     "data": {
      "text/plain": [
       "'Only 5 pancakes left.'"
      ]
     },
     "execution_count": 17,
     "metadata": {},
     "output_type": "execute_result"
    }
   ],
   "source": [
    "#str() can also handle arithmetic expressions\n",
    "\n",
    "total_pancakes = 10\n",
    "pancakes_eaten = 5\n",
    "\"Only \" + str(total_pancakes - pancakes_eaten) + \" pancakes left.\""
   ]
  },
  {
   "cell_type": "markdown",
   "id": "789f50b7",
   "metadata": {},
   "source": [
    "Review Exercises\n",
    "\n",
    "You can пnd the solutions to these exercises and many other bonus\n",
    "resources online at realpython.com/python-basics/resources\n",
    "\n",
    "1. Create a string containing an integer, then convert that string into an actual integer object using int(). Test that your new object is a number by multiplying it by another number and displaying the result.\n",
    "2. Repeat the previous exercise, but use a floating-point number and float().\n",
    "3. Create a string object and an integer object, then display them side by side with a single print statement using str().\n",
    "4. Write a program that uses input() twice to get two numbers from the user, multiplies the numbers together, and displays the result. If the user enters 2 and 4, then your program should print the following text:\n",
    "\n",
    "The product of 2 and 4 is 8.0."
   ]
  },
  {
   "cell_type": "code",
   "execution_count": 1,
   "id": "c1d084a6",
   "metadata": {},
   "outputs": [
    {
     "name": "stdout",
     "output_type": "stream",
     "text": [
      "16\n"
     ]
    }
   ],
   "source": [
    "#Create a string containing an integer, then convert that string into an actual integer object using int(). Test that your new object is a number by multiplying it by another number and displaying the result.\n",
    "#4 is a numeral in a string\n",
    "var = \"4\"\n",
    "#create a variable var_int to store the integer formed\n",
    "var_int = int(var)\n",
    "#intro. variable num  which will store our result after mult.\n",
    "num = var_int * 4\n",
    "#print the output\n",
    "print(num)"
   ]
  },
  {
   "cell_type": "code",
   "execution_count": 3,
   "id": "81177647",
   "metadata": {},
   "outputs": [
    {
     "name": "stdout",
     "output_type": "stream",
     "text": [
      "12.0\n"
     ]
    }
   ],
   "source": [
    "#Repeat the previous exercise, but use a floating-point number and float().\n",
    "var = \"3.0\"\n",
    "var_int = float(var)\n",
    "num = var_int * 4\n",
    "print(num)"
   ]
  },
  {
   "cell_type": "code",
   "execution_count": 5,
   "id": "e963df73",
   "metadata": {},
   "outputs": [
    {
     "name": "stdout",
     "output_type": "stream",
     "text": [
      "I am 10 years old.\n"
     ]
    }
   ],
   "source": [
    "#Create a string object and an integer object, then display them side by side with a single print statement using str().\n",
    "string1 = \"I am \"\n",
    "string2 = \" years old.\"\n",
    "int_object = 10\n",
    "display_object = string1 + str(int_object) + string2\n",
    "print(display_object)"
   ]
  },
  {
   "cell_type": "code",
   "execution_count": 24,
   "id": "f6807f0e",
   "metadata": {},
   "outputs": [
    {
     "name": "stdout",
     "output_type": "stream",
     "text": [
      "Enter first number: 4\n",
      "Enter second number: 6\n",
      "The product of 4 and 6 is 24.0\n"
     ]
    }
   ],
   "source": [
    "#Write a program that uses input() twice to get two numbers from the user, multiplies the numbers together, and displays the result. If the user enters 2 and 4, then your program should print the following text:\n",
    "#The product of 2 and 4 is 8.0.\n",
    "first_input = int(input(\"Enter first number: \"))\n",
    "second_input = int(input(\"Enter second number: \"))\n",
    "number_multiplication = float(first_input * second_input)\n",
    "print(\"The product of\",first_input,\"and\",second_input,\"is\",number_multiplication)\n",
    "#f\"The product of {first_input} and {second_input} is {number_multiplication}\"\n"
   ]
  },
  {
   "cell_type": "markdown",
   "id": "077dae9a",
   "metadata": {},
   "source": [
    "# Streamline Your Print Statements\n",
    "\n",
    "string interpolation, which is\n",
    "just a fancy way of saying that you want to insert some variables into specific locations in a string.\n",
    "\n",
    "fornatted string literals are known as f-strings"
   ]
  },
  {
   "cell_type": "code",
   "execution_count": 18,
   "id": "5c25f44f",
   "metadata": {},
   "outputs": [
    {
     "data": {
      "text/plain": [
       "'Zaphod has 2 heads and 3 arms'"
      ]
     },
     "execution_count": 18,
     "metadata": {},
     "output_type": "execute_result"
    }
   ],
   "source": [
    "#Example\n",
    "name = \"Zaphod\"\n",
    "heads = 2\n",
    "arms = 3\n",
    "#how to display all this in a string\n",
    "name + \" has \" + str(heads) + \" heads and \" + str(arms) + \" arms\"\n"
   ]
  },
  {
   "cell_type": "markdown",
   "id": "c329b4a6",
   "metadata": {},
   "source": [
    "The easiest way to understand f-strings is to see them in action. Here’s\n",
    "what the above string looks like when written as an f-string:"
   ]
  },
  {
   "cell_type": "code",
   "execution_count": 19,
   "id": "e9ffff77",
   "metadata": {},
   "outputs": [
    {
     "data": {
      "text/plain": [
       "'Zaphod has 2 heads and 3 arms'"
      ]
     },
     "execution_count": 19,
     "metadata": {},
     "output_type": "execute_result"
    }
   ],
   "source": [
    "#The example using f-strings\n",
    "f\"{name} has {heads} heads and {arms} arms\""
   ]
  },
  {
   "cell_type": "markdown",
   "id": "e3395656",
   "metadata": {},
   "source": [
    "There are two important things to notice about the above example:\n",
    "1. The string literal starts with the letter f before the opening quotation mark.\n",
    "2. Variable names surrounded by curly braces ({}) are replaced by their corresponding values without using str()."
   ]
  },
  {
   "cell_type": "code",
   "execution_count": 22,
   "id": "2afd0a86",
   "metadata": {},
   "outputs": [
    {
     "data": {
      "text/plain": [
       "'3 times 4 is 12'"
      ]
     },
     "execution_count": 22,
     "metadata": {},
     "output_type": "execute_result"
    }
   ],
   "source": [
    "#You can also insert Python expressions between the curly braces. The expressions are replaced with their result in the string:\n",
    "n = 3\n",
    "m = 4\n",
    "f\"{n} times {m} is {n*m}\""
   ]
  },
  {
   "cell_type": "code",
   "execution_count": 25,
   "id": "251659b4",
   "metadata": {},
   "outputs": [
    {
     "data": {
      "text/plain": [
       "'Zaphod has 2 heads and 3 arms'"
      ]
     },
     "execution_count": 25,
     "metadata": {},
     "output_type": "execute_result"
    }
   ],
   "source": [
    "#In early versions of python, you can use .format() to get the same results.\n",
    "\"{} has {} heads and {} arms\".format(name,heads,arms)"
   ]
  },
  {
   "cell_type": "markdown",
   "id": "f62d9c63",
   "metadata": {},
   "source": [
    "Review Exercises\n",
    "\n",
    "You can пnd the solutions to these exercises and many other bonus\n",
    "resources online at realpython.com/python-basics/resources\n",
    "\n",
    "1. Create a float object named weight with the value 0.2, and create a string object named animal with the value \"newt\". Then use theseobjects to   print the following string using only string concatenation:\n",
    "\n",
    "0.2 kg is the weight of the newt.\n",
    "\n",
    "2. Display the same string by using .format() and empty {} placeholders.\n",
    "3. Display the same string using an f-string.\n"
   ]
  },
  {
   "cell_type": "code",
   "execution_count": 29,
   "id": "a323799c",
   "metadata": {},
   "outputs": [
    {
     "data": {
      "text/plain": [
       "'0.2kg is the weight of the newt.'"
      ]
     },
     "execution_count": 29,
     "metadata": {},
     "output_type": "execute_result"
    }
   ],
   "source": [
    "#Create a float object named weight with the value 0.2, and create a string object named animal with the value \"newt\". Then use theseobjects to print the following string using only string concatenation: 0.2 kg is the weight of the newt.\n",
    "weight = 0.2\n",
    "animal = \"newt\"\n",
    "str(weight) + \"kg is the weight of the \" + str(animal) + \".\" "
   ]
  },
  {
   "cell_type": "code",
   "execution_count": 32,
   "id": "fda6d468",
   "metadata": {},
   "outputs": [
    {
     "data": {
      "text/plain": [
       "'0.2kg is the weight of the newt.'"
      ]
     },
     "execution_count": 32,
     "metadata": {},
     "output_type": "execute_result"
    }
   ],
   "source": [
    "#Display the same string by using .format() and empty {} placeholders\n",
    "\"{}kg is the weight of the {}.\".format(weight,animal)"
   ]
  },
  {
   "cell_type": "code",
   "execution_count": 33,
   "id": "396bcee4",
   "metadata": {},
   "outputs": [
    {
     "data": {
      "text/plain": [
       "'0.2kg is the weight of the newt.'"
      ]
     },
     "execution_count": 33,
     "metadata": {},
     "output_type": "execute_result"
    }
   ],
   "source": [
    "# Display the same string using an f-string.\n",
    "f\"{weight}kg is the weight of the {animal}.\""
   ]
  },
  {
   "cell_type": "markdown",
   "id": "452cedb9",
   "metadata": {},
   "source": [
    "# Find a String in a String"
   ]
  },
  {
   "cell_type": "markdown",
   "id": "67f25f50",
   "metadata": {},
   "source": [
    "One of the most useful string methods is .find(). As its name implies,\n",
    "this method allows you to find the location of one string in another\n",
    "string—commonly referred to as a substring.\n",
    "\n",
    "To use .find(), tack it to the end of a variable or a string literal with\n",
    "the string you want to find typed between the parentheses:\n"
   ]
  },
  {
   "cell_type": "code",
   "execution_count": 34,
   "id": "09613f44",
   "metadata": {},
   "outputs": [
    {
     "data": {
      "text/plain": [
       "4"
      ]
     },
     "execution_count": 34,
     "metadata": {},
     "output_type": "execute_result"
    }
   ],
   "source": [
    "phrase = \"the surprise is in here somewhere\"\n",
    "phrase.find(\"surprise\")"
   ]
  },
  {
   "cell_type": "markdown",
   "id": "7facca33",
   "metadata": {},
   "source": [
    "The value that .find() returns is the index of the first occurrence of the\n",
    "string you pass to it. In this case, \"surprise\" starts at the fifth character\n",
    "of the string \"the surprise is in here somewhere\", which has index 4\n",
    "because counting starts at zero.\n"
   ]
  },
  {
   "cell_type": "markdown",
   "id": "98e4411f",
   "metadata": {},
   "source": [
    "# Thank you !! Happy learning."
   ]
  },
  {
   "cell_type": "code",
   "execution_count": null,
   "id": "007ef03d",
   "metadata": {},
   "outputs": [],
   "source": []
  }
 ],
 "metadata": {
  "kernelspec": {
   "display_name": "Python 3",
   "language": "python",
   "name": "python3"
  },
  "language_info": {
   "codemirror_mode": {
    "name": "ipython",
    "version": 3
   },
   "file_extension": ".py",
   "mimetype": "text/x-python",
   "name": "python",
   "nbconvert_exporter": "python",
   "pygments_lexer": "ipython3",
   "version": "3.8.8"
  }
 },
 "nbformat": 4,
 "nbformat_minor": 5
}
